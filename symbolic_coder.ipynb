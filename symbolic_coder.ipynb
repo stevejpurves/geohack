{
 "cells": [
  {
   "cell_type": "code",
   "execution_count": 31,
   "metadata": {
    "collapsed": false
   },
   "outputs": [
    {
     "name": "stdout",
     "output_type": "stream",
     "text": [
      "0.19.1\n"
     ]
    }
   ],
   "source": [
    "import sklearn as skl\n",
    "print(skl.__version__)\n",
    "import gzip\n",
    "import cloudpickle as pickle\n",
    "import os\n",
    "import esaWells\n",
    "import matplotlib.pyplot as plt\n",
    "import pandas as pd\n",
    "import numpy as np\n",
    "%matplotlib inline"
   ]
  },
  {
   "cell_type": "code",
   "execution_count": 32,
   "metadata": {
    "collapsed": true
   },
   "outputs": [],
   "source": [
    "def load_data(filename):\n",
    "    with gzip.GzipFile(filename, 'rb') as f:\n",
    "        return pickle.load(f)"
   ]
  },
  {
   "cell_type": "markdown",
   "metadata": {},
   "source": [
    "Having loaded well logs compute features"
   ]
  },
  {
   "cell_type": "code",
   "execution_count": 33,
   "metadata": {
    "collapsed": false
   },
   "outputs": [],
   "source": [
    "data = load_data(os.path.join('..','SLCInput.esa'))"
   ]
  },
  {
   "cell_type": "code",
   "execution_count": 34,
   "metadata": {
    "collapsed": false
   },
   "outputs": [
    {
     "data": {
      "text/html": [
       "<div>\n",
       "<table border=\"1\" class=\"dataframe\">\n",
       "  <thead>\n",
       "    <tr style=\"text-align: right;\">\n",
       "      <th></th>\n",
       "      <th>idWlb</th>\n",
       "      <th>MD</th>\n",
       "      <th>DT</th>\n",
       "      <th>DEN</th>\n",
       "      <th>NEU</th>\n",
       "      <th>RDEP</th>\n",
       "      <th>GR</th>\n",
       "      <th>FM</th>\n",
       "    </tr>\n",
       "    <tr>\n",
       "      <th>idData</th>\n",
       "      <th></th>\n",
       "      <th></th>\n",
       "      <th></th>\n",
       "      <th></th>\n",
       "      <th></th>\n",
       "      <th></th>\n",
       "      <th></th>\n",
       "      <th></th>\n",
       "    </tr>\n",
       "  </thead>\n",
       "  <tbody>\n",
       "    <tr>\n",
       "      <th>1906909</th>\n",
       "      <td>82</td>\n",
       "      <td>1761.030762</td>\n",
       "      <td>105.125</td>\n",
       "      <td>2.2930</td>\n",
       "      <td>0.4233</td>\n",
       "      <td>3.7500</td>\n",
       "      <td>103.529999</td>\n",
       "      <td>82.0</td>\n",
       "    </tr>\n",
       "    <tr>\n",
       "      <th>1906910</th>\n",
       "      <td>82</td>\n",
       "      <td>1761.183228</td>\n",
       "      <td>109.375</td>\n",
       "      <td>2.2598</td>\n",
       "      <td>0.4292</td>\n",
       "      <td>3.5020</td>\n",
       "      <td>101.405701</td>\n",
       "      <td>82.0</td>\n",
       "    </tr>\n",
       "    <tr>\n",
       "      <th>1906911</th>\n",
       "      <td>82</td>\n",
       "      <td>1761.335571</td>\n",
       "      <td>108.375</td>\n",
       "      <td>2.3477</td>\n",
       "      <td>0.4561</td>\n",
       "      <td>3.3574</td>\n",
       "      <td>100.421402</td>\n",
       "      <td>82.0</td>\n",
       "    </tr>\n",
       "    <tr>\n",
       "      <th>1906912</th>\n",
       "      <td>82</td>\n",
       "      <td>1761.488037</td>\n",
       "      <td>109.000</td>\n",
       "      <td>2.3340</td>\n",
       "      <td>0.4648</td>\n",
       "      <td>3.4062</td>\n",
       "      <td>98.341301</td>\n",
       "      <td>82.0</td>\n",
       "    </tr>\n",
       "    <tr>\n",
       "      <th>1906913</th>\n",
       "      <td>82</td>\n",
       "      <td>1761.640381</td>\n",
       "      <td>104.375</td>\n",
       "      <td>2.3848</td>\n",
       "      <td>0.4458</td>\n",
       "      <td>3.3965</td>\n",
       "      <td>94.481300</td>\n",
       "      <td>82.0</td>\n",
       "    </tr>\n",
       "  </tbody>\n",
       "</table>\n",
       "</div>"
      ],
      "text/plain": [
       "         idWlb           MD       DT     DEN     NEU    RDEP          GR    FM\n",
       "idData                                                                        \n",
       "1906909     82  1761.030762  105.125  2.2930  0.4233  3.7500  103.529999  82.0\n",
       "1906910     82  1761.183228  109.375  2.2598  0.4292  3.5020  101.405701  82.0\n",
       "1906911     82  1761.335571  108.375  2.3477  0.4561  3.3574  100.421402  82.0\n",
       "1906912     82  1761.488037  109.000  2.3340  0.4648  3.4062   98.341301  82.0\n",
       "1906913     82  1761.640381  104.375  2.3848  0.4458  3.3965   94.481300  82.0"
      ]
     },
     "execution_count": 34,
     "metadata": {},
     "output_type": "execute_result"
    }
   ],
   "source": [
    "data.dfLogData=data.dfLogData[[u'idWlb', u'MD', u'DT', u'DEN', u'NEU', u'RDEP', u'GR', u'FM']]\n",
    "data.dfLogData.dropna(inplace=True)\n",
    "data.dfLogData.head()"
   ]
  },
  {
   "cell_type": "code",
   "execution_count": 41,
   "metadata": {
    "collapsed": false
   },
   "outputs": [],
   "source": [
    "X = data.dfLogData[[u'MD', u'DT', u'DEN', u'NEU', u'RDEP', u'GR', u'FM']]\n",
    "\n",
    "subsample = data.dfLogData.copy()\n",
    "subsample.drop(data.dfLogData.index, inplace=True)\n",
    "\n",
    "for well in data.dfLogData.idWlb.drop_duplicates():\n",
    "    thisWell = data.dfLogData.loc[data.dfLogData.idWlb == well]\n",
    "    subsample = subsample.append(thisWell.iloc[np.random.randint(0,len(thisWell), 1000),:])\n",
    "\n",
    "from sklearn.preprocessing import RobustScaler\n",
    "X = RobustScaler().fit_transform(X)\n",
    "Xsub = RobustScaler().fit_transform(subsample)"
   ]
  },
  {
   "cell_type": "markdown",
   "metadata": {
    "collapsed": true
   },
   "source": [
    "How many dimensations unique codes should be in out code book?\n",
    "\n",
    "wWe can try and estimate that by running kmeans mulitple times on a subbset of our input and looking at the AIC metric"
   ]
  },
  {
   "cell_type": "code",
   "execution_count": 42,
   "metadata": {
    "collapsed": false
   },
   "outputs": [],
   "source": [
    "def power2range(n):\n",
    "    return [1 << i for i in range(n)]"
   ]
  },
  {
   "cell_type": "code",
   "execution_count": 44,
   "metadata": {
    "collapsed": false
   },
   "outputs": [
    {
     "data": {
      "text/plain": [
       "[<matplotlib.lines.Line2D at 0x116681b50>]"
      ]
     },
     "execution_count": 44,
     "metadata": {},
     "output_type": "execute_result"
    },
    {
     "data": {
      "image/png": "[encoded data removed]",
      "text/plain": [
       "<matplotlib.figure.Figure at 0x10dfee490>"
      ]
     },
     "metadata": {},
     "output_type": "display_data"
    }
   ],
   "source": [
    "from sklearn.mixture import GaussianMixture\n",
    "\n",
    "x = X\n",
    "aic = []\n",
    "\n",
    "kn = power2range(11)[2:]\n",
    "\n",
    "for k in kn:\n",
    "    model = GaussianMixture(n_components=k, init_params='kmeans')\n",
    "    model.fit(x)\n",
    "    aic.append(model.aic(x))\n",
    "    \n",
    "plt.plot(kn, aic)"
   ]
  },
  {
   "cell_type": "code",
   "execution_count": null,
   "metadata": {
    "collapsed": true
   },
   "outputs": [],
   "source": []
  },
  {
   "cell_type": "code",
   "execution_count": null,
   "metadata": {
    "collapsed": true
   },
   "outputs": [],
   "source": []
  },
  {
   "cell_type": "markdown",
   "metadata": {},
   "source": [
    "Quantise the symbolic space into k code words"
   ]
  },
  {
   "cell_type": "code",
   "execution_count": null,
   "metadata": {
    "collapsed": false
   },
   "outputs": [],
   "source": [
    "from sklearn.cluster import KMeans"
   ]
  },
  {
   "cell_type": "code",
   "execution_count": null,
   "metadata": {
    "collapsed": true
   },
   "outputs": [],
   "source": [
    "K = 16"
   ]
  },
  {
   "cell_type": "code",
   "execution_count": null,
   "metadata": {
    "collapsed": false
   },
   "outputs": [],
   "source": [
    "quantiser = KMeans(n_clusters=K, random_state=0).fit(X)"
   ]
  },
  {
   "cell_type": "code",
   "execution_count": null,
   "metadata": {
    "collapsed": true
   },
   "outputs": [],
   "source": [
    "S = quantiser.predict(X)"
   ]
  },
  {
   "cell_type": "code",
   "execution_count": null,
   "metadata": {
    "collapsed": true
   },
   "outputs": [],
   "source": []
  }
 ],
 "metadata": {
  "anaconda-cloud": {},
  "kernelspec": {
   "display_name": "Python [conda env:python2]",
   "language": "python",
   "name": "conda-env-python2-py"
  },
  "language_info": {
   "codemirror_mode": {
    "name": "ipython",
    "version": 2
   },
   "file_extension": ".py",
   "mimetype": "text/x-python",
   "name": "python",
   "nbconvert_exporter": "python",
   "pygments_lexer": "ipython2",
   "version": "2.7.12"
  }
 },
 "nbformat": 4,
 "nbformat_minor": 2
}
